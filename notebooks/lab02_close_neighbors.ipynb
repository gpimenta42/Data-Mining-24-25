{
 "cells": [
  {
   "cell_type": "markdown",
   "metadata": {},
   "source": [
    "# Jupyter Notebook\n",
    "Try it out below."
   ]
  },
  {
   "cell_type": "code",
   "execution_count": null,
   "metadata": {},
   "outputs": [],
   "source": [
    "# This is a code cell. Try to write some code here!\n"
   ]
  },
  {
   "cell_type": "markdown",
   "metadata": {},
   "source": [
    "This is a markdown cell. Try to write some text here!"
   ]
  },
  {
   "cell_type": "markdown",
   "metadata": {},
   "source": [
    "# Distance Matrix"
   ]
  },
  {
   "cell_type": "markdown",
   "metadata": {},
   "source": [
    "### Distance Metrics\n",
    "\n",
    "#### 1. Euclidean Distance\n",
    "\n",
    "The Euclidean distance between two points \\( x \\) and \\( y \\) in \\( n \\)-dimensional space is given by:\n",
    "\n",
    "$$ \n",
    "d(x, y) = \\sqrt{\\sum_{i=1}^{n} (x_i - y_i)^2} \n",
    "$$\n",
    "\n",
    "#### 2. Manhattan Distance (L1 Distance)\n",
    "The Manhattan distance between two points \\( x \\) and \\( y \\) is defined as:\n",
    "\n",
    "$$ \n",
    "d(x, y) = \\sum_{i=1}^{n} |x_i - y_i| \n",
    "$$\n",
    "\n",
    "\n",
    "#### There are other ways to measure distances / dissimilarities !!\n",
    "\n",
    "We will mostly be dealing with the Euclidean distance.\n",
    "\n",
    "---\n",
    "\n",
    "References: \n",
    "\n",
    "**Data Mining Concepts and Techniques[^1].**\n",
    "\n",
    "Section 2.4 Measuring Data Similarity and Dissimilarity\n",
    "\n",
    "\n",
    "**Data Mining: The Textbook[^2].**\n",
    "\n",
    "Chapter 3: Similarity and Distances\n",
    "\n",
    "---\n",
    "\n",
    "[^1]: Han, J., Kamber, M. & Pei, J. (2012). Data mining concepts and techniques, third edition Morgan Kaufmann Publishers\n",
    "\n",
    "[^2]: Aggarwal, C. C. (2015). Data Mining - The Textbook. Springer. ISBN: 978-3-319-14142-8"
   ]
  },
  {
   "cell_type": "code",
   "execution_count": null,
   "metadata": {},
   "outputs": [],
   "source": []
  },
  {
   "cell_type": "markdown",
   "metadata": {},
   "source": [
    "### Data\n",
    "\n",
    "Let's get some example data"
   ]
  },
  {
   "cell_type": "code",
   "execution_count": null,
   "metadata": {},
   "outputs": [],
   "source": []
  },
  {
   "cell_type": "code",
   "execution_count": null,
   "metadata": {},
   "outputs": [],
   "source": [
    "# imports\n",
    "import numpy as np\n",
    "import pandas as pd"
   ]
  },
  {
   "cell_type": "code",
   "execution_count": null,
   "metadata": {},
   "outputs": [],
   "source": [
    "data = np.array([[1, 2], [3, 4], [5, 6], [7, 8]])\n",
    "df = pd.DataFrame(data, columns=['Feature 1', 'Feature 2'], index=['P1','P2','P3','P4'])\n",
    "df\n"
   ]
  },
  {
   "cell_type": "code",
   "execution_count": null,
   "metadata": {},
   "outputs": [],
   "source": [
    "## Distance between P1, P1\n",
    "\n",
    "d_1_1 = ((2-2)**2 + (1-1)**2)**.5\n",
    "d_1_1"
   ]
  },
  {
   "cell_type": "code",
   "execution_count": null,
   "metadata": {},
   "outputs": [],
   "source": [
    "## Distance between P1, P2\n",
    "\n",
    "d_1_2 = (((4-2)**2) + ((3-1)**2))**.5\n",
    "d_1_2"
   ]
  },
  {
   "cell_type": "code",
   "execution_count": null,
   "metadata": {},
   "outputs": [],
   "source": [
    "## Distance between P1, P3\n",
    "# d_1_3 = 0 "
   ]
  },
  {
   "cell_type": "code",
   "execution_count": null,
   "metadata": {},
   "outputs": [],
   "source": [
    "## Distance between P1, P4\n",
    "\n",
    "# d_1_4 = 0 # Calculate\n"
   ]
  },
  {
   "cell_type": "code",
   "execution_count": null,
   "metadata": {},
   "outputs": [],
   "source": [
    "df\n"
   ]
  },
  {
   "cell_type": "code",
   "execution_count": null,
   "metadata": {},
   "outputs": [],
   "source": [
    "###########################\n",
    "\n",
    "## Surely there's a better way?\n",
    "\n",
    "def euclidean_dist_2d(p1,p2):\n",
    "    return ((p2[1]-p1[1])**2 + (p2[0]-p1[0])**2)**.5\n",
    "\n",
    "###########################\n",
    "## Distance between P2, P1\n",
    "print(euclidean_dist_2d((3,4),(1,2)))\n",
    "\n",
    "## Distance between P2, P2\n",
    "print(euclidean_dist_2d((3,4), (3,4)))\n",
    "\n",
    "## Distance between P2, P3\n",
    "print(euclidean_dist_2d((3,4),(5,6)))\n",
    "\n",
    "## Distance between P2, P4\n",
    "print(euclidean_dist_2d((3,4),(7,8)))\n",
    "\n",
    "#### ... and so on ... ####\n",
    "\n",
    "###########################\n",
    "## Distance between P3, P1\n",
    "## Distance between P3, P2\n",
    "## Distance between P3, P3\n",
    "## Distance between P3, P4\n",
    "###########################\n",
    "## Distance between P4, P1\n",
    "## Distance between P4, P2\n",
    "## Distance between P4, P3\n",
    "## Distance between P4, P4\n",
    "###########################\n"
   ]
  },
  {
   "cell_type": "markdown",
   "metadata": {},
   "source": [
    "### Iris Dataset\n",
    "\n",
    "Let's get some (better) data"
   ]
  },
  {
   "cell_type": "code",
   "execution_count": null,
   "metadata": {},
   "outputs": [],
   "source": [
    "# imports\n",
    "from sklearn import datasets"
   ]
  },
  {
   "cell_type": "code",
   "execution_count": null,
   "metadata": {},
   "outputs": [],
   "source": [
    "# abstract\n",
    "dataset = datasets.load_iris()"
   ]
  },
  {
   "cell_type": "code",
   "execution_count": null,
   "metadata": {},
   "outputs": [],
   "source": [
    "# dictionary\n",
    "dataset.keys()"
   ]
  },
  {
   "cell_type": "code",
   "execution_count": null,
   "metadata": {},
   "outputs": [],
   "source": [
    "dataset[\"feature_names\"]"
   ]
  },
  {
   "cell_type": "markdown",
   "metadata": {},
   "source": [
    "We are using the Iris Flower Dataset.\n",
    "\n",
    "\n",
    "https://en.wikipedia.org/wiki/Iris_flower_data_set\n",
    "\n",
    "![Iris Flower](https://raw.githubusercontent.com/fpontejos/Data-Mining-24-25/main/figures/img/iris.png)"
   ]
  },
  {
   "cell_type": "code",
   "execution_count": null,
   "metadata": {
    "scrolled": true
   },
   "outputs": [],
   "source": [
    "data = dataset[\"data\"]\n",
    "data  # data is a numpy array data structure. Think of it as a matrix of data (or as an excel spreadsheet)"
   ]
  },
  {
   "cell_type": "code",
   "execution_count": null,
   "metadata": {},
   "outputs": [],
   "source": [
    "data.shape"
   ]
  },
  {
   "cell_type": "code",
   "execution_count": null,
   "metadata": {},
   "outputs": [],
   "source": [
    "print(data[1])\n",
    "print(data[0])\n"
   ]
  },
  {
   "cell_type": "markdown",
   "metadata": {},
   "source": [
    "`numpy` arrays behave differently to Python lists!"
   ]
  },
  {
   "cell_type": "code",
   "execution_count": null,
   "metadata": {},
   "outputs": [],
   "source": [
    "# data[1] - data[0]"
   ]
  },
  {
   "cell_type": "code",
   "execution_count": null,
   "metadata": {},
   "outputs": [],
   "source": [
    "# data[1].tolist() - data[0].tolist()"
   ]
  },
  {
   "cell_type": "markdown",
   "metadata": {},
   "source": [
    "So we can do something like this: "
   ]
  },
  {
   "cell_type": "code",
   "execution_count": null,
   "metadata": {},
   "outputs": [],
   "source": [
    "(data[0] - data[1])"
   ]
  },
  {
   "cell_type": "code",
   "execution_count": null,
   "metadata": {},
   "outputs": [],
   "source": [
    "(data[0] - data[1])**2"
   ]
  },
  {
   "cell_type": "code",
   "execution_count": null,
   "metadata": {},
   "outputs": [],
   "source": [
    "sum((data[0] - data[1])**2)"
   ]
  },
  {
   "cell_type": "code",
   "execution_count": null,
   "metadata": {},
   "outputs": [],
   "source": [
    "(sum((data[0] - data[1])**2))**(1/2)"
   ]
  },
  {
   "cell_type": "code",
   "execution_count": null,
   "metadata": {},
   "outputs": [],
   "source": [
    "# Let's wrap it into a function:\n",
    "# Euclidean distance of 2 observations\n",
    "\n",
    "def euclidean_dist(p1, p2):\n",
    "    return sum((p1 - p2)**2)**(1/2)\n",
    "    \n",
    "print(euclidean_dist(data[1], data[0]))\n"
   ]
  },
  {
   "cell_type": "code",
   "execution_count": null,
   "metadata": {},
   "outputs": [],
   "source": [
    "# initialize distance matrix. What will be its final shape?\n",
    "dist = []"
   ]
  },
  {
   "cell_type": "code",
   "execution_count": null,
   "metadata": {},
   "outputs": [],
   "source": [
    "# Build the distance matrix. Use 2 for loops, the append list method and the euclidean distance formula\n",
    "\n",
    "dist = []\n",
    "\n",
    "for i in range(data.shape[0]):\n",
    "    dist_row = []\n",
    "    for j in range(data.shape[0]):\n",
    "        single_dist = sum((data[i] - data[j]) ** 2) ** (1/2)\n",
    "        dist_row.append(single_dist)\n",
    "    dist.append(dist_row)        \n",
    "\n"
   ]
  },
  {
   "cell_type": "code",
   "execution_count": null,
   "metadata": {},
   "outputs": [],
   "source": [
    "len(dist), len(dist[0])"
   ]
  },
  {
   "cell_type": "code",
   "execution_count": null,
   "metadata": {},
   "outputs": [],
   "source": [
    "# another import (usually all imports are done at the top of the script/ notebook)\n",
    "import seaborn as sns"
   ]
  },
  {
   "cell_type": "code",
   "execution_count": null,
   "metadata": {},
   "outputs": [],
   "source": [
    "sns.heatmap(dist)"
   ]
  },
  {
   "cell_type": "markdown",
   "metadata": {},
   "source": [
    "## Why do we care about distances?\n",
    "\n",
    "> In data mining applications, such as clustering, outlier analysis, and nearest-neighbor\n",
    "classification, we need ways to assess how alike or unalike objects are in comparison to\n",
    "one another. For example, a store may want to search for clusters of customer objects,\n",
    "resulting in groups of customers with similar characteristics (e.g., similar income, area\n",
    "of residence, and age). Such information can then be used for marketing. A cluster is\n",
    "a collection of data objects such that the objects within a cluster are similar to one\n",
    "another and dissimilar to the objects in other clusters.\n",
    "> \n",
    "> (Han, 2011, p.65-66)\n",
    "\n",
    "\n",
    "\n",
    "---\n",
    "\n",
    "Han, J., Kamber, M., & Pei, J. (2011). *Data Mining: Concepts and Techniques*. Elsevier."
   ]
  },
  {
   "cell_type": "code",
   "execution_count": null,
   "metadata": {},
   "outputs": [],
   "source": []
  },
  {
   "cell_type": "markdown",
   "metadata": {},
   "source": [
    "# Plotting data: \n",
    "Don't worry about the code for now; it is not the goal of the exercise. We will learn how to plot data in future classes.\n",
    "### How can we represent an observation in a N-dimensional Space"
   ]
  },
  {
   "cell_type": "code",
   "execution_count": null,
   "metadata": {},
   "outputs": [],
   "source": [
    "# another import (usually all imports are done at the top of the script/ notebook)\n",
    "import matplotlib.pyplot as plt"
   ]
  },
  {
   "cell_type": "code",
   "execution_count": null,
   "metadata": {},
   "outputs": [],
   "source": [
    "# 2D scatter plot\n",
    "plt.scatter(data[:, 0], data[:, 1])\n",
    "plt.xlabel(dataset[\"feature_names\"][0])\n",
    "plt.ylabel(dataset[\"feature_names\"][1])\n",
    "plt.show()"
   ]
  },
  {
   "cell_type": "code",
   "execution_count": null,
   "metadata": {},
   "outputs": [],
   "source": [
    "# 1D scatter plot\n",
    "plt.scatter(data[:, 0], [0 for i in range(data.shape[0])])\n",
    "plt.xlabel(dataset[\"feature_names\"][0])\n",
    "plt.show()"
   ]
  },
  {
   "cell_type": "code",
   "execution_count": null,
   "metadata": {},
   "outputs": [],
   "source": [
    "# 3D scatter plot\n",
    "fig = plt.figure(figsize=(14, 7))  # defining a figure so we can add a 3d subplot\n",
    "ax = fig.add_subplot(111, projection=\"3d\")\n",
    "ax.scatter(data[:, 0], data[:, 1], data[:, 2])\n",
    "ax.set_xlabel(dataset[\"feature_names\"][0])\n",
    "ax.set_ylabel(dataset[\"feature_names\"][1])\n",
    "ax.set_zlabel(dataset[\"feature_names\"][2])\n",
    "plt.show()"
   ]
  },
  {
   "cell_type": "markdown",
   "metadata": {},
   "source": [
    "## Finding nearest neighbors\n",
    "\n",
    "**Pseudo code:**\n",
    "\n",
    "```python\n",
    "# initialize global min_dist to a very large number:\n",
    "min_dist = 9999999\n",
    "\n",
    "# save coordinates of pair with smallest dist\n",
    "min_args = (-,-)\n",
    "\n",
    "for each row in dist_matrix:\n",
    "    row_dist =  distances from point in row_id\n",
    "                to all other points in the lower triangle of matrix\n",
    "                (Why?)\n",
    "    if the smallest distance in row_dist is smaller than current global min_dist,\n",
    "        replace min_dist with this dist\n",
    "        replace min_args with the row_number and col_number\n",
    "```"
   ]
  },
  {
   "cell_type": "code",
   "execution_count": null,
   "metadata": {},
   "outputs": [],
   "source": [
    "# get variables to save closest neighbors later\n",
    "min_args, min_dist = (None, 9e99)\n",
    "for id_r, row in enumerate(dist):\n",
    "    # CODE HERE\n"
   ]
  },
  {
   "cell_type": "code",
   "execution_count": null,
   "metadata": {
    "scrolled": true
   },
   "outputs": [],
   "source": [
    "min_args"
   ]
  },
  {
   "cell_type": "code",
   "execution_count": null,
   "metadata": {},
   "outputs": [],
   "source": [
    "print(data[min_args[0]])\n",
    "print(data[min_args[1]])\n",
    "print('minimum distance:\\t', min_dist)"
   ]
  },
  {
   "cell_type": "markdown",
   "metadata": {},
   "source": [
    "## Define functions\n",
    "Why do we want to define functions in this case?"
   ]
  },
  {
   "cell_type": "code",
   "execution_count": null,
   "metadata": {},
   "outputs": [],
   "source": [
    "def distance_matrix(data):\n",
    "    # CODE HERE\n",
    "    return dist    \n",
    "\n",
    "def closest_points(dist_matrix):\n",
    "    # CODE HERE\n",
    "    return min_args, min_dist"
   ]
  },
  {
   "cell_type": "markdown",
   "metadata": {},
   "source": [
    "## Finding the `n` shortest distances"
   ]
  },
  {
   "cell_type": "code",
   "execution_count": null,
   "metadata": {},
   "outputs": [],
   "source": [
    "dist_matrix = distance_matrix(data)\n",
    "n_distances = 10\n",
    "\n",
    "# CODE HERE\n",
    "\n",
    "distances"
   ]
  }
 ],
 "metadata": {
  "kernelspec": {
   "display_name": "Python 3 (ipykernel)",
   "language": "python",
   "name": "python3"
  },
  "language_info": {
   "codemirror_mode": {
    "name": "ipython",
    "version": 3
   },
   "file_extension": ".py",
   "mimetype": "text/x-python",
   "name": "python",
   "nbconvert_exporter": "python",
   "pygments_lexer": "ipython3",
   "version": "3.12.5"
  },
  "widgets": {
   "application/vnd.jupyter.widget-state+json": {
    "state": {},
    "version_major": 2,
    "version_minor": 0
   }
  }
 },
 "nbformat": 4,
 "nbformat_minor": 4
}
